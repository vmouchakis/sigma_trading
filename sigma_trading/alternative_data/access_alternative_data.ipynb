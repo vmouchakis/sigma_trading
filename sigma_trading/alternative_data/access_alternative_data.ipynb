{
 "cells": [
  {
   "cell_type": "markdown",
   "metadata": {},
   "source": [
    "## Access Alternative Data"
   ]
  },
  {
   "cell_type": "markdown",
   "metadata": {},
   "source": [
    "### Scraping the Web\n",
    "- #### Parsing data from HTML with Requests and BeautifulSoup\n",
    "- #### Using Selenium\n",
    "- #### Taking automation one step further with Scrapy and Splash"
   ]
  },
  {
   "cell_type": "markdown",
   "metadata": {},
   "source": []
  }
 ],
 "metadata": {
  "language_info": {
   "name": "python"
  },
  "orig_nbformat": 4
 },
 "nbformat": 4,
 "nbformat_minor": 2
}
